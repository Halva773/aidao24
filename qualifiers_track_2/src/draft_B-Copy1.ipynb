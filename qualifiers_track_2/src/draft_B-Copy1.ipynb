{
 "cells": [
  {
   "cell_type": "code",
   "execution_count": 2,
   "id": "0fa280a3-d166-44e9-8db5-11484104033b",
   "metadata": {},
   "outputs": [
    {
     "name": "stdout",
     "output_type": "stream",
     "text": [
      "   label\n",
      "0    0.0\n",
      "1    0.0\n",
      "2    0.0\n",
      "3    0.0\n",
      "4    0.0\n"
     ]
    }
   ],
   "source": [
    "import pandas as pd\n",
    "\n",
    "# Загрузка файла с метками\n",
    "labels_file = 'bnu.csv'\n",
    "labels_df = pd.read_csv(labels_file)\n",
    "\n",
    "# Просмотр первых строк таблицы\n",
    "print(labels_df.head())\n"
   ]
  },
  {
   "cell_type": "code",
   "execution_count": 3,
   "id": "b82b68cc-ea1c-4edc-9773-678a2607542f",
   "metadata": {},
   "outputs": [
    {
     "name": "stdout",
     "output_type": "stream",
     "text": [
      "Форма данных из bnu1.npy: (71, 240, 419)\n",
      "Форма данных из bnu2.npy: (71, 240, 419)\n"
     ]
    }
   ],
   "source": [
    "import numpy as np\n",
    "\n",
    "# Загрузка данных из файлов .npy\n",
    "data1 = np.load('bnu1.npy')\n",
    "data2 = np.load('bnu2.npy')\n",
    "\n",
    "# Проверка формата данных\n",
    "print(f\"Форма данных из bnu1.npy: {data1.shape}\")\n",
    "print(f\"Форма данных из bnu2.npy: {data2.shape}\")\n"
   ]
  },
  {
   "cell_type": "code",
   "execution_count": 4,
   "id": "7d7b7bf8-f5b4-4d85-9df0-4fc0cdcb6375",
   "metadata": {},
   "outputs": [
    {
     "name": "stdout",
     "output_type": "stream",
     "text": [
      "Форма объединенных данных: (142, 240, 419)\n",
      "Количество меток: 142\n"
     ]
    }
   ],
   "source": [
    "# Объединение данных\n",
    "all_data = np.concatenate([data1, data2], axis=0)  # Объединяем данные по оси участников (первое измерение)\n",
    "print(f\"Форма объединенных данных: {all_data.shape}\")\n",
    "\n",
    "\n",
    "# Предположим, что в метках есть столбец 'label', где 0 — это одно состояние (например, глаза закрыты), а 1 — другое (глаза открыты)\n",
    "labels = labels_df['label'].values  # Преобразуем метки в numpy массив\n",
    "print(f\"Количество меток: {len(labels)}\")\n",
    "\n",
    "# Проверка: количество меток должно совпадать с количеством записей (участников) в данных\n",
    "assert all_data.shape[0] == len(labels), \"Количество участников и меток не совпадает!\""
   ]
  },
  {
   "cell_type": "code",
   "execution_count": 5,
   "id": "fa0f63a8-1527-44d5-9fb6-3094196c8467",
   "metadata": {},
   "outputs": [],
   "source": [
    "# Нормализация данных по каждому признаку (региону мозга)\n",
    "# Для каждого участника, для каждого временного ряда нормализуем по среднему и стандартному отклонению\n",
    "all_data_normalized = (all_data - np.mean(all_data, axis=1, keepdims=True)) / np.std(all_data, axis=1, keepdims=True)\n"
   ]
  },
  {
   "cell_type": "code",
   "execution_count": 6,
   "id": "ddfd02fe-d3f1-4807-81aa-c883107005cc",
   "metadata": {},
   "outputs": [
    {
     "name": "stdout",
     "output_type": "stream",
     "text": [
      "Форма X_train: (113, 240, 419), Форма y_train: (113,)\n",
      "Форма X_test: (29, 240, 419), Форма y_test: (29,)\n"
     ]
    }
   ],
   "source": [
    "from sklearn.model_selection import train_test_split\n",
    "\n",
    "# Разделение данных и меток на обучающую и тестовую выборки (80% обучение, 20% тест)\n",
    "X_train, X_test, y_train, y_test = train_test_split(all_data_normalized, labels, test_size=0.2, random_state=42)\n",
    "\n",
    "print(f\"Форма X_train: {X_train.shape}, Форма y_train: {y_train.shape}\")\n",
    "print(f\"Форма X_test: {X_test.shape}, Форма y_test: {y_test.shape}\")\n"
   ]
  },
  {
   "cell_type": "code",
   "execution_count": 8,
   "id": "30c3d8b9-b439-46da-bc93-e42cca71a25a",
   "metadata": {},
   "outputs": [],
   "source": [
    "import numpy as np\n",
    "import pandas as pd\n",
    "from sklearn.svm import SVC\n",
    "from sklearn.metrics import accuracy_score\n",
    "from sklearn.preprocessing import StandardScaler\n",
    "from sklearn.model_selection import train_test_split"
   ]
  },
  {
   "cell_type": "code",
   "execution_count": 9,
   "id": "ea591662-1ae8-492a-a3f8-4bf0023fbe49",
   "metadata": {},
   "outputs": [
    {
     "name": "stdout",
     "output_type": "stream",
     "text": [
      "Точность SVM на корреляционных матрицах: 93.10%\n",
      "Файл svm_predictions.csv успешно создан!\n"
     ]
    }
   ],
   "source": [
    "# 1. Преобразование данных в корреляционные матрицы\n",
    "def create_correlation_matrices(X):\n",
    "    matrices = []\n",
    "    for i in range(X.shape[0]):  # Для каждого участника\n",
    "        corr_matrix = np.corrcoef(X[i].T)  # Корреляционная матрица для временных рядов\n",
    "        matrices.append(corr_matrix)\n",
    "    return np.array(matrices)\n",
    "\n",
    "# Создание корреляционных матриц для обучающих и тестовых данных\n",
    "X_train_corr = create_correlation_matrices(X_train)\n",
    "X_test_corr = create_correlation_matrices(X_test)\n",
    "\n",
    "# 2. Преобразование корреляционных матриц в одномерные векторы\n",
    "X_train_corr_flatten = X_train_corr.reshape(X_train_corr.shape[0], -1)\n",
    "X_test_corr_flatten = X_test_corr.reshape(X_test_corr.shape[0], -1)\n",
    "\n",
    "# 3. Нормализация корреляционных матриц\n",
    "scaler = StandardScaler()\n",
    "X_train_corr_normalized = scaler.fit_transform(X_train_corr_flatten)\n",
    "X_test_corr_normalized = scaler.transform(X_test_corr_flatten)\n",
    "\n",
    "# 4. Обучение модели SVM на нормализованных матрицах\n",
    "svm_clf = SVC(kernel='linear', probability=True)  # Используем вероятностные предсказания\n",
    "svm_clf.fit(X_train_corr_normalized, y_train)\n",
    "\n",
    "# 5. Оценка точности на тестовых данных\n",
    "y_pred = svm_clf.predict(X_test_corr_normalized)\n",
    "accuracy = accuracy_score(y_test, y_pred)\n",
    "print(f'Точность SVM на корреляционных матрицах: {accuracy * 100:.2f}%')\n",
    "\n",
    "# 6. Получение вероятностей предсказания (для вероятностной модели)\n",
    "y_pred_prob = svm_clf.predict_proba(X_test_corr_normalized)[:, 1]  # Вероятность положительного класса\n",
    "\n",
    "# 7. Сохранение результатов в CSV-файл\n",
    "output_df = pd.DataFrame({\n",
    "    'True_Label': y_test,  # Истинные метки\n",
    "    'Predicted_Label': y_pred,  # Предсказанные метки\n",
    "    'Predicted_Probability': y_pred_prob  # Вероятности для положительного класса\n",
    "})\n",
    "\n",
    "# Сохранение в CSV-файл\n",
    "output_df.to_csv('svm_predictions.csv', index=False)\n",
    "\n",
    "print(\"Файл svm_predictions.csv успешно создан!\")"
   ]
  },
  {
   "cell_type": "code",
   "execution_count": null,
   "id": "acc16196",
   "metadata": {},
   "outputs": [],
   "source": []
  }
 ],
 "metadata": {
  "kernelspec": {
   "display_name": "Python 3",
   "language": "python",
   "name": "python3"
  },
  "language_info": {
   "codemirror_mode": {
    "name": "ipython",
    "version": 3
   },
   "file_extension": ".py",
   "mimetype": "text/x-python",
   "name": "python",
   "nbconvert_exporter": "python",
   "pygments_lexer": "ipython3",
   "version": "3.11.5"
  }
 },
 "nbformat": 4,
 "nbformat_minor": 5
}
