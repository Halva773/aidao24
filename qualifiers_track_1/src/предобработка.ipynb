{
 "cells": [
  {
   "cell_type": "code",
   "execution_count": null,
   "id": "97d9d964-b5c3-4523-a9a5-945c67fa10e9",
   "metadata": {},
   "outputs": [],
   "source": [
    "import numpy as np\n",
    "\n",
    "# Загрузка данных из файла\n",
    "data = np.load('ihb.npy')\n",
    "\n",
    "# Просмотр формы массива данных\n",
    "print('Форма данных:', data.shape)\n",
    "\n",
    "# Просмотр первых элементов\n",
    "print('Первые элементы данных:', data[0])"
   ]
  },
  {
   "cell_type": "code",
   "execution_count": null,
   "id": "b82acde4-a2e5-4086-91af-cb43a52ea0eb",
   "metadata": {},
   "outputs": [],
   "source": [
    "# Checking for the presence of np.nan values in the dataset\n",
    "nan_count = np.isnan(data).sum()\n",
    "\n",
    "# Percentage of nan values relative to total data points\n",
    "total_elements = data.size\n",
    "nan_percentage = (nan_count / total_elements) * 100\n",
    "\n",
    "nan_count, nan_percentage"
   ]
  },
  {
   "cell_type": "code",
   "execution_count": null,
   "id": "b3e06f62-d241-4e7c-b574-d2a282c62639",
   "metadata": {},
   "outputs": [],
   "source": [
    "# Replacing np.nan with the mean of each feature (column-wise)\n",
    "# Compute the mean for each feature ignoring the np.nan values\n",
    "means = np.nanmean(data, axis=0)\n",
    "\n",
    "# Replace np.nan with the computed mean for the corresponding feature\n",
    "data_filled = np.where(np.isnan(data), means, data)\n",
    "\n",
    "# Normalize the data (min-max scaling between 0 and 1)\n",
    "data_min = np.min(data_filled, axis=(0, 1), keepdims=True)\n",
    "data_max = np.max(data_filled, axis=(0, 1), keepdims=True)\n",
    "data_normalized = (data_filled - data_min) / (data_max - data_min)\n",
    "\n",
    "# Display a small part of the normalized data for verification\n",
    "data_normalized_sample = data_normalized[:5, :3, :5]  # First 5 samples, 3 timesteps, and 5 features\n",
    "data_normalized_sample"
   ]
  },
  {
   "cell_type": "code",
   "execution_count": null,
   "id": "e2b1c445-0209-4043-80e2-acec5faa33e3",
   "metadata": {},
   "outputs": [],
   "source": [
    "# Replacing np.nan with the mean of each feature (column-wise)\n",
    "# Compute the mean for each feature ignoring the np.nan values\n",
    "means = np.nanmean(data, axis=0)\n",
    "\n",
    "# Replace np.nan with the computed mean for the corresponding feature\n",
    "data_filled = np.where(np.isnan(data), means, data)\n",
    "\n",
    "# Normalize the data (min-max scaling between 0 and 1)\n",
    "data_min = np.min(data_filled, axis=(0, 1), keepdims=True)\n",
    "data_max = np.max(data_filled, axis=(0, 1), keepdims=True)\n",
    "data_normalized = (data_filled - data_min) / (data_max - data_min)\n",
    "\n",
    "# Display a small part of the normalized data for verification\n",
    "data_normalized_sample = data_normalized[:5, :3, :5]  # First 5 samples, 3 timesteps, and 5 features\n",
    "data_normalized_sample"
   ]
  }
 ],
 "metadata": {
  "kernelspec": {
   "display_name": "Python 3 (ipykernel)",
   "language": "python",
   "name": "python3"
  },
  "language_info": {
   "codemirror_mode": {
    "name": "ipython",
    "version": 3
   },
   "file_extension": ".py",
   "mimetype": "text/x-python",
   "name": "python",
   "nbconvert_exporter": "python",
   "pygments_lexer": "ipython3",
   "version": "3.12.2"
  }
 },
 "nbformat": 4,
 "nbformat_minor": 5
}
